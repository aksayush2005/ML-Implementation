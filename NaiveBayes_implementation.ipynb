{
 "cells": [
  {
   "cell_type": "markdown",
   "id": "607a1db1-a1ba-4fbd-987f-db39e928424f",
   "metadata": {},
   "source": [
    "<h3>Implementation of Naive Bayes using Scikit Learn</h3>"
   ]
  },
  {
   "cell_type": "code",
   "execution_count": 2,
   "id": "e38c2bbf-5ce6-4940-add2-e3dfce3f915f",
   "metadata": {},
   "outputs": [],
   "source": [
    "#Importing essential libraries\n",
    "import numpy as np\n",
    "import pandas as pd\n",
    "import matplotlib.pyplot as plt\n",
    "import seaborn as sns\n",
    "import sklearn"
   ]
  },
  {
   "cell_type": "code",
   "execution_count": 4,
   "id": "897b27a3-d32e-4b67-a22a-530d9541e841",
   "metadata": {},
   "outputs": [
    {
     "data": {
      "text/html": [
       "<div>\n",
       "<style scoped>\n",
       "    .dataframe tbody tr th:only-of-type {\n",
       "        vertical-align: middle;\n",
       "    }\n",
       "\n",
       "    .dataframe tbody tr th {\n",
       "        vertical-align: top;\n",
       "    }\n",
       "\n",
       "    .dataframe thead th {\n",
       "        text-align: right;\n",
       "    }\n",
       "</style>\n",
       "<table border=\"1\" class=\"dataframe\">\n",
       "  <thead>\n",
       "    <tr style=\"text-align: right;\">\n",
       "      <th></th>\n",
       "      <th>Sunny</th>\n",
       "      <th>Hot</th>\n",
       "      <th>High</th>\n",
       "      <th>Weak</th>\n",
       "      <th>No</th>\n",
       "    </tr>\n",
       "  </thead>\n",
       "  <tbody>\n",
       "    <tr>\n",
       "      <th>0</th>\n",
       "      <td>Sunny</td>\n",
       "      <td>Hot</td>\n",
       "      <td>High</td>\n",
       "      <td>Strong</td>\n",
       "      <td>No</td>\n",
       "    </tr>\n",
       "    <tr>\n",
       "      <th>1</th>\n",
       "      <td>Overcast</td>\n",
       "      <td>Hot</td>\n",
       "      <td>High</td>\n",
       "      <td>Weak</td>\n",
       "      <td>Yes</td>\n",
       "    </tr>\n",
       "    <tr>\n",
       "      <th>2</th>\n",
       "      <td>Rain</td>\n",
       "      <td>Mild</td>\n",
       "      <td>High</td>\n",
       "      <td>Weak</td>\n",
       "      <td>Yes</td>\n",
       "    </tr>\n",
       "    <tr>\n",
       "      <th>3</th>\n",
       "      <td>Rain</td>\n",
       "      <td>Cool</td>\n",
       "      <td>Normal</td>\n",
       "      <td>Weak</td>\n",
       "      <td>Yes</td>\n",
       "    </tr>\n",
       "    <tr>\n",
       "      <th>4</th>\n",
       "      <td>Rain</td>\n",
       "      <td>Cool</td>\n",
       "      <td>Normal</td>\n",
       "      <td>Strong</td>\n",
       "      <td>No</td>\n",
       "    </tr>\n",
       "  </tbody>\n",
       "</table>\n",
       "</div>"
      ],
      "text/plain": [
       "0     Sunny   Hot    High    Weak   No\n",
       "0     Sunny   Hot    High  Strong   No\n",
       "1  Overcast   Hot    High    Weak  Yes\n",
       "2      Rain  Mild    High    Weak  Yes\n",
       "3      Rain  Cool  Normal    Weak  Yes\n",
       "4      Rain  Cool  Normal  Strong   No"
      ]
     },
     "execution_count": 4,
     "metadata": {},
     "output_type": "execute_result"
    }
   ],
   "source": [
    "#Importing the dataset\n",
    "data=pd.read_csv(\"weather_forecast.csv\")\n",
    "data=pd.DataFrame(data)\n",
    "headers=data.iloc[0]\n",
    "df=pd.DataFrame(data.values[1:],columns=headers)\n",
    "df.head()"
   ]
  },
  {
   "cell_type": "code",
   "execution_count": 6,
   "id": "6d2748d1-21a8-4da4-a790-a906c5c51ea3",
   "metadata": {},
   "outputs": [],
   "source": [
    "#independent and dependent features\n",
    "x=df.iloc[:,:-1]\n",
    "y=df.iloc[:,-1]"
   ]
  },
  {
   "cell_type": "code",
   "execution_count": 12,
   "id": "252f27db-efaa-4116-a6fd-47c21b8ef990",
   "metadata": {},
   "outputs": [],
   "source": [
    "#train,test split and label encoding\n",
    "from sklearn.model_selection import train_test_split\n",
    "from sklearn.preprocessing import LabelEncoder\n",
    "x_train,x_test,y_train,y_test=train_test_split(x,y,random_state=42,test_size=0.25)\n",
    "for i in x_train.columns:\n",
    "    encoder=LabelEncoder()\n",
    "    x_train[i]=encoder.fit_transform(x_train[i])\n",
    "    x_test[i]=encoder.fit_transform(x_test[i])\n",
    "y_train=encoder.fit_transform(y_train)\n",
    "y_test=encoder.fit_transform(y_test)"
   ]
  },
  {
   "cell_type": "code",
   "execution_count": 18,
   "id": "c1dbf7b4-c011-4945-8b23-062105525b40",
   "metadata": {},
   "outputs": [],
   "source": [
    "#Importing naive bayes model\n",
    "from sklearn.naive_bayes import CategoricalNB\n",
    "model=CategoricalNB()\n",
    "#hyperparamter tuning\n",
    "from sklearn.model_selection import GridSearchCV\n",
    "params={\"alpha\":[1,2,3,5,7,4,15]}\n",
    "cv=GridSearchCV(model,params,cv=3,scoring=\"precision\")\n",
    "#fitting the training data\n",
    "cv.fit(x_train,y_train)\n",
    "#predicting using the model\n",
    "y_pred=cv.predict(x_test)"
   ]
  },
  {
   "cell_type": "code",
   "execution_count": 20,
   "id": "8fc46c4e-74f9-4fdb-9a80-3b39741ee19f",
   "metadata": {},
   "outputs": [
    {
     "name": "stdout",
     "output_type": "stream",
     "text": [
      "              precision    recall  f1-score   support\n",
      "\n",
      "           0       1.00      1.00      1.00         1\n",
      "           1       1.00      1.00      1.00         3\n",
      "\n",
      "    accuracy                           1.00         4\n",
      "   macro avg       1.00      1.00      1.00         4\n",
      "weighted avg       1.00      1.00      1.00         4\n",
      "\n"
     ]
    }
   ],
   "source": [
    "#Classification Report\n",
    "from sklearn.metrics import classification_report\n",
    "print(classification_report(y_test,y_pred))"
   ]
  },
  {
   "cell_type": "code",
   "execution_count": 22,
   "id": "6d00ba52-f6c3-4298-979f-f9b4c0735ff1",
   "metadata": {},
   "outputs": [
    {
     "data": {
      "text/plain": [
       "'IMPORTANT:As we can see here the model is giving 100 percent in every category in\\n   the classification data,this is due to the relatively small size of the dataset.'"
      ]
     },
     "execution_count": 22,
     "metadata": {},
     "output_type": "execute_result"
    }
   ],
   "source": [
    "'''IMPORTANT:As we can see here the model is giving 100 percent in every category in\n",
    "   the classification data,this is due to the relatively small size of the dataset.'''"
   ]
  }
 ],
 "metadata": {
  "kernelspec": {
   "display_name": "Python 3 (ipykernel)",
   "language": "python",
   "name": "python3"
  },
  "language_info": {
   "codemirror_mode": {
    "name": "ipython",
    "version": 3
   },
   "file_extension": ".py",
   "mimetype": "text/x-python",
   "name": "python",
   "nbconvert_exporter": "python",
   "pygments_lexer": "ipython3",
   "version": "3.12.7"
  }
 },
 "nbformat": 4,
 "nbformat_minor": 5
}
